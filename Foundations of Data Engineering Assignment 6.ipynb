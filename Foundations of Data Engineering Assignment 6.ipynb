{
 "cells": [
  {
   "cell_type": "code",
   "execution_count": 1,
   "id": "30bc5977",
   "metadata": {},
   "outputs": [],
   "source": [
    "import time\n",
    "import numpy as np\n",
    "import pandas as pd\n",
    "import matplotlib.pyplot as plt\n",
    "from collections import deque"
   ]
  },
  {
   "cell_type": "code",
   "execution_count": 2,
   "id": "724702b0",
   "metadata": {},
   "outputs": [],
   "source": [
    "#First Level(And initializing layer)\n",
    "graph = {}\n",
    "graph['you'] = ['a', 'b', 'c', 'd', 'e']\n",
    "graph['a'] = ['f', 'g', 'h', 'i', 'j'] \n",
    "graph['b'] = ['f', 'g', 'h', 'i', 'j']\n",
    "graph['c']= ['f', 'g', 'h', 'i', 'j']\n",
    "graph['d']= ['f', 'g', 'h', 'i', 'j']\n",
    "graph['e']= ['f', 'g', 'h', 'i', 'j']"
   ]
  },
  {
   "cell_type": "code",
   "execution_count": 3,
   "id": "a0bf14f4",
   "metadata": {},
   "outputs": [],
   "source": [
    "#Second Level\n",
    "graph['f']= ['k', 'l', 'm', 'n', 'o']\n",
    "graph['g']=['k', 'l', 'm', 'n', 'o']\n",
    "graph['h']=['k', 'l', 'm', 'n', 'o']\n",
    "graph['i']=['k', 'l', 'm', 'n', 'o']\n",
    "graph['j']=['k', 'l', 'm', 'n', 'o']"
   ]
  },
  {
   "cell_type": "code",
   "execution_count": 4,
   "id": "e12f9d5c",
   "metadata": {},
   "outputs": [],
   "source": [
    "#Third Level\n",
    "graph['k'] = ['p', 'q', 'r', 's', 't']\n",
    "graph['l'] = ['p', 'q', 'r', 's', 't']\n",
    "graph['m'] = ['p', 'q', 'r', 's', 't']\n",
    "graph['n'] = ['p', 'q', 'r', 's', 't']\n",
    "graph['o'] = ['p', 'q', 'r', 's', 't']"
   ]
  },
  {
   "cell_type": "code",
   "execution_count": 5,
   "id": "90aa88c3",
   "metadata": {},
   "outputs": [],
   "source": [
    "#Fourth Level\n",
    "graph['p'] = ['u', 'v', 'w', 'x', 'y']\n",
    "graph['q'] = ['u', 'v', 'w', 'x', 'y']\n",
    "graph['r'] = ['u', 'v', 'w', 'x', 'y']\n",
    "graph['s'] = ['u', 'v', 'w', 'x', 'y']\n",
    "graph['t'] = ['u', 'v', 'w', 'x', 'y']"
   ]
  },
  {
   "cell_type": "code",
   "execution_count": 6,
   "id": "4822757e",
   "metadata": {},
   "outputs": [],
   "source": [
    "#Fifth Level\n",
    "graph['u'] = ['z', 'aa', 'bb', 'cc', 'dd']\n",
    "graph['v'] = ['z', 'aa', 'bb', 'cc', 'dd']\n",
    "graph['w'] = ['z', 'aa', 'bb', 'cc', 'dd']\n",
    "graph['x'] = ['z', 'aa', 'bb', 'cc', 'dd']\n",
    "graph['y'] = ['z', 'aa', 'bb', 'cc', 'dd']"
   ]
  },
  {
   "cell_type": "code",
   "execution_count": 7,
   "id": "4c942596",
   "metadata": {},
   "outputs": [],
   "source": [
    "#End of the road to prevent error\n",
    "graph['z']= []\n",
    "graph['aa']= []\n",
    "graph['bb']= []\n",
    "graph['cc']= []\n",
    "graph['dd']= []"
   ]
  },
  {
   "cell_type": "code",
   "execution_count": 8,
   "id": "73f477e4",
   "metadata": {},
   "outputs": [],
   "source": [
    "def search(name):\n",
    "    search_queue = deque()\n",
    "    search_queue += graph[\"you\"]\n",
    "    searched = set()\n",
    "    while search_queue:\n",
    "        person = search_queue.popleft()\n",
    "        if person not in searched:\n",
    "            if person == name:\n",
    "                return True\n",
    "            else:\n",
    "                search_queue += graph[person]\n",
    "                searched.add(person)\n",
    "    return False"
   ]
  },
  {
   "cell_type": "code",
   "execution_count": 9,
   "id": "f5181c38",
   "metadata": {},
   "outputs": [],
   "source": [
    "def find_time(name):\n",
    "    start_time = time.time()\n",
    "    for x in range(1000):\n",
    "        search(name)\n",
    "    runtime = time.time() - start_time\n",
    "    return runtime*1000"
   ]
  },
  {
   "cell_type": "code",
   "execution_count": 10,
   "id": "3529a9cc",
   "metadata": {},
   "outputs": [],
   "source": [
    "level_one_times = [find_time('f'), find_time('g'), find_time('h')]"
   ]
  },
  {
   "cell_type": "code",
   "execution_count": 11,
   "id": "08449bd4",
   "metadata": {},
   "outputs": [],
   "source": [
    "level_two_times = [find_time('l'), find_time('m'), find_time('n')]"
   ]
  },
  {
   "cell_type": "code",
   "execution_count": 12,
   "id": "27643613",
   "metadata": {},
   "outputs": [],
   "source": [
    "level_three_times = [find_time('q'), find_time('r'), find_time('s')]"
   ]
  },
  {
   "cell_type": "code",
   "execution_count": 13,
   "id": "b2069455",
   "metadata": {},
   "outputs": [],
   "source": [
    "level_four_times = [find_time('v'), find_time('w'), find_time('x')]"
   ]
  },
  {
   "cell_type": "code",
   "execution_count": 14,
   "id": "2a6859ac",
   "metadata": {},
   "outputs": [],
   "source": [
    "level_five_times = [find_time('z'), find_time('aa'), find_time('bb')]"
   ]
  },
  {
   "cell_type": "code",
   "execution_count": 15,
   "id": "a9a00ce8",
   "metadata": {},
   "outputs": [],
   "source": [
    "data = {\"Levels\": [1,1,1,2,2,2,3,3,3,4,4,4,5,5,5], \"Names\": ['f', 'g', 'h', 'l', 'm', 'n', 'q','r','s',\n",
    "                                                                   'v', 'w', 'x', 'z', 'aa', 'bb'],}"
   ]
  },
  {
   "cell_type": "code",
   "execution_count": 16,
   "id": "56db62d3",
   "metadata": {},
   "outputs": [],
   "source": [
    "df = pd.DataFrame(data)"
   ]
  },
  {
   "cell_type": "code",
   "execution_count": 17,
   "id": "4816842a",
   "metadata": {},
   "outputs": [],
   "source": [
    "total = level_one_times+level_two_times+level_three_times+level_four_times+level_five_times"
   ]
  },
  {
   "cell_type": "code",
   "execution_count": 18,
   "id": "9b58fc68",
   "metadata": {},
   "outputs": [],
   "source": [
    "df['Runtimes']= total"
   ]
  },
  {
   "cell_type": "code",
   "execution_count": 19,
   "id": "8f2f845f",
   "metadata": {},
   "outputs": [
    {
     "data": {
      "text/html": [
       "<div>\n",
       "<style scoped>\n",
       "    .dataframe tbody tr th:only-of-type {\n",
       "        vertical-align: middle;\n",
       "    }\n",
       "\n",
       "    .dataframe tbody tr th {\n",
       "        vertical-align: top;\n",
       "    }\n",
       "\n",
       "    .dataframe thead th {\n",
       "        text-align: right;\n",
       "    }\n",
       "</style>\n",
       "<table border=\"1\" class=\"dataframe\">\n",
       "  <thead>\n",
       "    <tr style=\"text-align: right;\">\n",
       "      <th></th>\n",
       "      <th>Levels</th>\n",
       "      <th>Names</th>\n",
       "      <th>Runtimes</th>\n",
       "    </tr>\n",
       "  </thead>\n",
       "  <tbody>\n",
       "    <tr>\n",
       "      <th>0</th>\n",
       "      <td>1</td>\n",
       "      <td>f</td>\n",
       "      <td>2.997875</td>\n",
       "    </tr>\n",
       "    <tr>\n",
       "      <th>1</th>\n",
       "      <td>1</td>\n",
       "      <td>g</td>\n",
       "      <td>2.998114</td>\n",
       "    </tr>\n",
       "    <tr>\n",
       "      <th>2</th>\n",
       "      <td>1</td>\n",
       "      <td>h</td>\n",
       "      <td>3.997803</td>\n",
       "    </tr>\n",
       "    <tr>\n",
       "      <th>3</th>\n",
       "      <td>2</td>\n",
       "      <td>l</td>\n",
       "      <td>8.992910</td>\n",
       "    </tr>\n",
       "    <tr>\n",
       "      <th>4</th>\n",
       "      <td>2</td>\n",
       "      <td>m</td>\n",
       "      <td>9.994030</td>\n",
       "    </tr>\n",
       "    <tr>\n",
       "      <th>5</th>\n",
       "      <td>2</td>\n",
       "      <td>n</td>\n",
       "      <td>9.994030</td>\n",
       "    </tr>\n",
       "    <tr>\n",
       "      <th>6</th>\n",
       "      <td>3</td>\n",
       "      <td>q</td>\n",
       "      <td>10.992765</td>\n",
       "    </tr>\n",
       "    <tr>\n",
       "      <th>7</th>\n",
       "      <td>3</td>\n",
       "      <td>r</td>\n",
       "      <td>11.993170</td>\n",
       "    </tr>\n",
       "    <tr>\n",
       "      <th>8</th>\n",
       "      <td>3</td>\n",
       "      <td>s</td>\n",
       "      <td>11.992216</td>\n",
       "    </tr>\n",
       "    <tr>\n",
       "      <th>9</th>\n",
       "      <td>4</td>\n",
       "      <td>v</td>\n",
       "      <td>21.981478</td>\n",
       "    </tr>\n",
       "    <tr>\n",
       "      <th>10</th>\n",
       "      <td>4</td>\n",
       "      <td>w</td>\n",
       "      <td>16.988754</td>\n",
       "    </tr>\n",
       "    <tr>\n",
       "      <th>11</th>\n",
       "      <td>4</td>\n",
       "      <td>x</td>\n",
       "      <td>20.987272</td>\n",
       "    </tr>\n",
       "    <tr>\n",
       "      <th>12</th>\n",
       "      <td>5</td>\n",
       "      <td>z</td>\n",
       "      <td>20.987988</td>\n",
       "    </tr>\n",
       "    <tr>\n",
       "      <th>13</th>\n",
       "      <td>5</td>\n",
       "      <td>aa</td>\n",
       "      <td>18.988132</td>\n",
       "    </tr>\n",
       "    <tr>\n",
       "      <th>14</th>\n",
       "      <td>5</td>\n",
       "      <td>bb</td>\n",
       "      <td>18.988609</td>\n",
       "    </tr>\n",
       "  </tbody>\n",
       "</table>\n",
       "</div>"
      ],
      "text/plain": [
       "    Levels Names   Runtimes\n",
       "0        1     f   2.997875\n",
       "1        1     g   2.998114\n",
       "2        1     h   3.997803\n",
       "3        2     l   8.992910\n",
       "4        2     m   9.994030\n",
       "5        2     n   9.994030\n",
       "6        3     q  10.992765\n",
       "7        3     r  11.993170\n",
       "8        3     s  11.992216\n",
       "9        4     v  21.981478\n",
       "10       4     w  16.988754\n",
       "11       4     x  20.987272\n",
       "12       5     z  20.987988\n",
       "13       5    aa  18.988132\n",
       "14       5    bb  18.988609"
      ]
     },
     "execution_count": 19,
     "metadata": {},
     "output_type": "execute_result"
    }
   ],
   "source": [
    "df"
   ]
  },
  {
   "cell_type": "code",
   "execution_count": 20,
   "id": "be9a67d1",
   "metadata": {},
   "outputs": [],
   "source": [
    "def average(array):\n",
    "    avg = sum(array)/len(array)\n",
    "    return avg"
   ]
  },
  {
   "cell_type": "code",
   "execution_count": 21,
   "id": "2ecb6b44",
   "metadata": {},
   "outputs": [],
   "source": [
    "averages = [average(level_one_times), average(level_two_times), average(level_three_times), average(level_four_times),\n",
    "            average(level_five_times)]"
   ]
  },
  {
   "cell_type": "code",
   "execution_count": 22,
   "id": "955100c5",
   "metadata": {},
   "outputs": [],
   "source": [
    "levels = range(5)"
   ]
  },
  {
   "cell_type": "markdown",
   "id": "60229d76",
   "metadata": {},
   "source": [
    "# Executive Summary\n",
    "\n",
    "## For this experiment I basically created a graph for the purposes of utilizing a breadth-first search algorithm. After creating an initializing layer (so I can have the algorithm start somewhere), I put the graph into five levels with each level having 5 names being connected to 5 different names.  I then inserted a sixth layer to prevent any key errors from being issued when searching for values. The breadth-first search algorithm ran incredibly quickly. In fact, it ran so quickly that in order to properly measure it, I had to have it run 1000 times to get a proper runtime in milliseconds.\n",
    "\n",
    "## The results of this algorithms runtimes were unsurprising and consistent. The Big O notation of breadth-first is O(V+E) with V meaning vertices and E meaning Edges. This essentially means the deeper into the graph that we go, the more likely it is that the run time will take longer. For instance, the first layer took around 3-4 milliseconds to run 1000 times where the fifth level took between 18 and 20 milliseconds. While that does make quite a difference, what is amazing about this algorithm is that it does not grow even more as the number of layers increase. This algorithm is extremely useful for data engineering due to the fact that it is extremely easy to use in finding out information about connections at a faster speed. And this is only with Python and hash tables. When implementing this in something like a graph database such as Neo4j with a Cypher query it is remarkably quicker when comparing it to join SQL queries."
   ]
  },
  {
   "cell_type": "code",
   "execution_count": null,
   "id": "fc23846a",
   "metadata": {},
   "outputs": [],
   "source": []
  }
 ],
 "metadata": {
  "kernelspec": {
   "display_name": "Python 3 (ipykernel)",
   "language": "python",
   "name": "python3"
  },
  "language_info": {
   "codemirror_mode": {
    "name": "ipython",
    "version": 3
   },
   "file_extension": ".py",
   "mimetype": "text/x-python",
   "name": "python",
   "nbconvert_exporter": "python",
   "pygments_lexer": "ipython3",
   "version": "3.8.5"
  }
 },
 "nbformat": 4,
 "nbformat_minor": 5
}
